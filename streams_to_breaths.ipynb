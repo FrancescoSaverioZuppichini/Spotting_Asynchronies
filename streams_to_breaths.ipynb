{
 "cells": [
  {
   "cell_type": "markdown",
   "metadata": {},
   "source": [
    "### In BREATHS/mode_[mode_num] salve ogni array respiro e un array target contenente il target binario per ciascuno dei respiri"
   ]
  },
  {
   "cell_type": "code",
   "execution_count": 1,
   "metadata": {},
   "outputs": [],
   "source": [
    "import numpy as np\n",
    "\n",
    "from os import listdir\n",
    "from os.path import isfile, join"
   ]
  },
  {
   "cell_type": "code",
   "execution_count": 2,
   "metadata": {},
   "outputs": [],
   "source": [
    "def is_asynchrony(breath_target_stream):\n",
    "    if breath_target_stream.sum() > 0:\n",
    "        return 1\n",
    "    else: \n",
    "        return 0"
   ]
  },
  {
   "cell_type": "code",
   "execution_count": 3,
   "metadata": {},
   "outputs": [],
   "source": [
    "mode_counter = [36, 0, 127, 73, 25] #preso da pickle_to_stream.ipynb"
   ]
  },
  {
   "cell_type": "code",
   "execution_count": 5,
   "metadata": {
    "scrolled": true
   },
   "outputs": [],
   "source": [
    "num_breaths_per_mode = [0]*5\n",
    "\n",
    "for i in range(5):\n",
    "    \n",
    "    breaths = []\n",
    "    breaths_target = []\n",
    "    \n",
    "    mode = i\n",
    "    streams_directory = \"DATA_STREAMS/mode_\"+str(mode)+\"/\"\n",
    "    \n",
    "    for j in range(mode_counter[mode]):\n",
    "        \n",
    "        stream_num = j\n",
    "\n",
    "        input_stream_name = \"input_stream_\"+str(stream_num)+\".npy\"\n",
    "        target_stream_name = \"target_stream_\"+str(stream_num)+\".npy\"\n",
    "\n",
    "        input_stream = np.load(streams_directory + input_stream_name)\n",
    "        target_stream = np.load(streams_directory + target_stream_name)\n",
    "\n",
    "        BP = input_stream[:, 2]\n",
    "        P_dotV = input_stream[:, :2]\n",
    "        binary_target_stream = (target_stream > 1).astype(int)\n",
    "\n",
    "        stream_length = BP.shape[0]\n",
    "\n",
    "        last = 0\n",
    "        for k in range(stream_length - 1):\n",
    "            if BP[k] != 0 and BP[k+1] == 0:\n",
    "                breaths.append(P_dotV[last:k+1])\n",
    "                breaths_target.append(binary_target_stream[last:k+1])\n",
    "                last = k+1\n",
    "                \n",
    "        \n",
    "    num_breaths = len(breaths)\n",
    "    num_breaths_per_mode[i] = num_breaths\n",
    "\n",
    "    breaths_target = [is_asynchrony(breaths_target[i]) for i in range(num_breaths)]\n",
    "        \n",
    "    saving_directory = \"BREATHS/mode_\"+str(mode)+\"/\"\n",
    "    \n",
    "    #nmax of breaths per mode: 10000\n",
    "    for k in range(num_breaths):\n",
    "        file_name = \"breath_\" + str(k) + \".npy\"\n",
    "        np.save(saving_directory + file_name, breaths[k])\n",
    "        \n",
    "    \n",
    "    if num_breaths > 0:\n",
    "        np.save(saving_directory + \"breaths_target.npy\", breaths_target)  "
   ]
  },
  {
   "cell_type": "code",
   "execution_count": 6,
   "metadata": {},
   "outputs": [
    {
     "name": "stdout",
     "output_type": "stream",
     "text": [
      "[8285, 0, 24012, 11302, 5523]\n"
     ]
    }
   ],
   "source": [
    "print(num_breaths_per_mode)"
   ]
  },
  {
   "cell_type": "code",
   "execution_count": null,
   "metadata": {},
   "outputs": [],
   "source": []
  }
 ],
 "metadata": {
  "kernelspec": {
   "display_name": "Python 3",
   "language": "python",
   "name": "python3"
  },
  "language_info": {
   "codemirror_mode": {
    "name": "ipython",
    "version": 3
   },
   "file_extension": ".py",
   "mimetype": "text/x-python",
   "name": "python",
   "nbconvert_exporter": "python",
   "pygments_lexer": "ipython3",
   "version": "3.6.6"
  }
 },
 "nbformat": 4,
 "nbformat_minor": 2
}
