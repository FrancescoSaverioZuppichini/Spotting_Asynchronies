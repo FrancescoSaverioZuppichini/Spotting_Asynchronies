{
 "cells": [
  {
   "cell_type": "code",
   "execution_count": 1,
   "metadata": {},
   "outputs": [],
   "source": [
    "import numpy as np"
   ]
  },
  {
   "cell_type": "code",
   "execution_count": 76,
   "metadata": {},
   "outputs": [],
   "source": [
    "mode = 2\n",
    "\n",
    "data_directory = \"DATASET/mode_\" + str(mode) + \"/downsampling/\"\n",
    "\n",
    "X_train = np.load(data_directory + \"X_train.npy\")\n",
    "y_train = np.load(data_directory + \"y_train.npy\")\n",
    "\n",
    "X_val = np.load(data_directory + \"X_val.npy\")\n",
    "y_val = np.load(data_directory + \"y_val.npy\")\n",
    "\n",
    "X_test = np.load(data_directory + \"X_test.npy\")\n",
    "y_test = np.load(data_directory + \"y_test.npy\")"
   ]
  },
  {
   "cell_type": "code",
   "execution_count": 77,
   "metadata": {},
   "outputs": [
    {
     "data": {
      "text/plain": [
       "(10595, 250, 2)"
      ]
     },
     "execution_count": 77,
     "metadata": {},
     "output_type": "execute_result"
    }
   ],
   "source": [
    "X_train.shape"
   ]
  },
  {
   "cell_type": "code",
   "execution_count": 78,
   "metadata": {},
   "outputs": [],
   "source": [
    "from keras.models import Sequential\n",
    "from keras.layers import Dense, Dropout\n",
    "from keras.layers import Embedding\n",
    "from keras.layers import Conv1D, GlobalAveragePooling1D, MaxPooling1D\n",
    "\n",
    "seq_length = 250\n",
    "\n",
    "model = Sequential()\n",
    "model.add(Conv1D(64, 4, strides=2, activation='relu', input_shape=(seq_length, 2)))\n",
    "model.add(Conv1D(64, 4, strides=2, activation='relu'))\n",
    "model.add(MaxPooling1D(3))\n",
    "model.add(Conv1D(128, 4, strides=2, activation='relu'))\n",
    "model.add(Conv1D(128, 4, strides=2, activation='relu'))\n",
    "model.add(GlobalAveragePooling1D())\n",
    "model.add(Dropout(0.5))\n",
    "model.add(Dense(1, activation='sigmoid'))\n",
    "\n",
    "model.compile(loss='binary_crossentropy',\n",
    "              optimizer='rmsprop',\n",
    "              metrics=['accuracy'])"
   ]
  },
  {
   "cell_type": "code",
   "execution_count": 79,
   "metadata": {},
   "outputs": [
    {
     "name": "stdout",
     "output_type": "stream",
     "text": [
      "Epoch 1/25\n",
      "10595/10595 [==============================] - 2s 149us/step - loss: 0.4204 - acc: 0.8339\n",
      "Epoch 2/25\n",
      "10595/10595 [==============================] - 1s 108us/step - loss: 0.3458 - acc: 0.8678\n",
      "Epoch 3/25\n",
      "10595/10595 [==============================] - 1s 108us/step - loss: 0.3254 - acc: 0.8782\n",
      "Epoch 4/25\n",
      "10595/10595 [==============================] - 1s 109us/step - loss: 0.3130 - acc: 0.8822\n",
      "Epoch 5/25\n",
      "10595/10595 [==============================] - 1s 109us/step - loss: 0.3095 - acc: 0.8851\n",
      "Epoch 6/25\n",
      "10595/10595 [==============================] - 1s 109us/step - loss: 0.3074 - acc: 0.8859\n",
      "Epoch 7/25\n",
      "10595/10595 [==============================] - 1s 110us/step - loss: 0.3057 - acc: 0.8853\n",
      "Epoch 8/25\n",
      "10595/10595 [==============================] - 1s 109us/step - loss: 0.2972 - acc: 0.8883\n",
      "Epoch 9/25\n",
      "10595/10595 [==============================] - 1s 110us/step - loss: 0.2949 - acc: 0.8906\n",
      "Epoch 10/25\n",
      "10595/10595 [==============================] - 1s 109us/step - loss: 0.2909 - acc: 0.8905\n",
      "Epoch 11/25\n",
      "10595/10595 [==============================] - 1s 109us/step - loss: 0.2881 - acc: 0.8920\n",
      "Epoch 12/25\n",
      "10595/10595 [==============================] - 1s 109us/step - loss: 0.2872 - acc: 0.8933\n",
      "Epoch 13/25\n",
      "10595/10595 [==============================] - 1s 108us/step - loss: 0.2800 - acc: 0.8952\n",
      "Epoch 14/25\n",
      "10595/10595 [==============================] - 1s 109us/step - loss: 0.2817 - acc: 0.8950\n",
      "Epoch 15/25\n",
      "10595/10595 [==============================] - 1s 109us/step - loss: 0.2801 - acc: 0.8962\n",
      "Epoch 16/25\n",
      "10595/10595 [==============================] - 1s 109us/step - loss: 0.2773 - acc: 0.8978\n",
      "Epoch 17/25\n",
      "10595/10595 [==============================] - 1s 109us/step - loss: 0.2758 - acc: 0.8986\n",
      "Epoch 18/25\n",
      "10595/10595 [==============================] - 1s 110us/step - loss: 0.2765 - acc: 0.8983\n",
      "Epoch 19/25\n",
      "10595/10595 [==============================] - 1s 109us/step - loss: 0.2723 - acc: 0.8985\n",
      "Epoch 20/25\n",
      "10595/10595 [==============================] - 1s 108us/step - loss: 0.2739 - acc: 0.9001\n",
      "Epoch 21/25\n",
      "10595/10595 [==============================] - 1s 109us/step - loss: 0.2743 - acc: 0.9006\n",
      "Epoch 22/25\n",
      "10595/10595 [==============================] - 1s 110us/step - loss: 0.2746 - acc: 0.8996\n",
      "Epoch 23/25\n",
      "10595/10595 [==============================] - 1s 109us/step - loss: 0.2737 - acc: 0.8996\n",
      "Epoch 24/25\n",
      "10595/10595 [==============================] - 1s 109us/step - loss: 0.2708 - acc: 0.9011\n",
      "Epoch 25/25\n",
      "10595/10595 [==============================] - 1s 109us/step - loss: 0.2720 - acc: 0.8995\n"
     ]
    },
    {
     "data": {
      "text/plain": [
       "<keras.callbacks.History at 0x7fead22b0c88>"
      ]
     },
     "execution_count": 79,
     "metadata": {},
     "output_type": "execute_result"
    }
   ],
   "source": [
    "model.fit(X_train, y_train, batch_size=32, epochs=25)"
   ]
  },
  {
   "cell_type": "code",
   "execution_count": 80,
   "metadata": {},
   "outputs": [
    {
     "name": "stdout",
     "output_type": "stream",
     "text": [
      "2659/2659 [==============================] - 0s 102us/step\n",
      "Validation loss: 0.2866689205161272\n",
      "Validation accuracy: 0.9086122602482136\n"
     ]
    }
   ],
   "source": [
    "score = model.evaluate(X_val, y_val, verbose=1, batch_size=16)\n",
    "print('Validation loss:', score[0])\n",
    "print('Validation accuracy:', score[1])"
   ]
  },
  {
   "cell_type": "code",
   "execution_count": 81,
   "metadata": {},
   "outputs": [
    {
     "name": "stdout",
     "output_type": "stream",
     "text": [
      "0.9087301587301587\n",
      "0.5100222717149221\n"
     ]
    }
   ],
   "source": [
    "y_val_predict = (model.predict(X_val) > 0.5).astype(np.uint8)\n",
    "\n",
    "from sklearn.metrics import recall_score, precision_score\n",
    "\n",
    "print(precision_score(y_val, y_val_predict))\n",
    "print(recall_score(y_val, y_val_predict))"
   ]
  },
  {
   "cell_type": "code",
   "execution_count": 82,
   "metadata": {},
   "outputs": [],
   "source": [
    "model.save(\"Models/mode_\" + str(mode) + \"/conv1D.h5\")"
   ]
  },
  {
   "cell_type": "code",
   "execution_count": null,
   "metadata": {},
   "outputs": [],
   "source": []
  }
 ],
 "metadata": {
  "kernelspec": {
   "display_name": "Python 3",
   "language": "python",
   "name": "python3"
  },
  "language_info": {
   "codemirror_mode": {
    "name": "ipython",
    "version": 3
   },
   "file_extension": ".py",
   "mimetype": "text/x-python",
   "name": "python",
   "nbconvert_exporter": "python",
   "pygments_lexer": "ipython3",
   "version": "3.6.6"
  }
 },
 "nbformat": 4,
 "nbformat_minor": 2
}
