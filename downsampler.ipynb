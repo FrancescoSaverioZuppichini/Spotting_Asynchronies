{
 "cells": [
  {
   "cell_type": "code",
   "execution_count": 14,
   "metadata": {},
   "outputs": [],
   "source": [
    "import numpy as np"
   ]
  },
  {
   "cell_type": "code",
   "execution_count": 48,
   "metadata": {},
   "outputs": [],
   "source": [
    "mode = 0\n",
    "data_directory = \"DATASET/mode_\" + str(mode) + \"/\"\n",
    "\n",
    "train_set = list(np.load(data_directory + \"train_set.npy\"))\n",
    "val_set = list(np.load(data_directory + \"val_set.npy\"))\n",
    "test_set = list(np.load(data_directory + \"test_set.npy\"))"
   ]
  },
  {
   "cell_type": "code",
   "execution_count": 49,
   "metadata": {},
   "outputs": [
    {
     "data": {
      "text/plain": [
       "828"
      ]
     },
     "execution_count": 49,
     "metadata": {},
     "output_type": "execute_result"
    }
   ],
   "source": [
    "len(val_set)"
   ]
  },
  {
   "cell_type": "code",
   "execution_count": 39,
   "metadata": {},
   "outputs": [],
   "source": [
    "train_inputs = [train_set[i][0]for i in range(len(train_set))]\n",
    "train_targets = [train_set[i][1] for i in range(len(train_set))]\n",
    "\n",
    "val_inputs = [val_set[i][0]for i in range(len(val_set))]\n",
    "val_targets = [val_set[i][1] for i in range(len(val_set))]\n",
    "\n",
    "test_inputs = [test_set[i][0]for i in range(len(test_set))]\n",
    "test_targets = [test_set[i][1] for i in range(len(test_set))]"
   ]
  },
  {
   "cell_type": "markdown",
   "metadata": {},
   "source": [
    "## Downsampling\n",
    "Stabilisco una lunghezza del respiro, faccio downsampling su tutti i più lunghi ed elimino tutti i piu' corti"
   ]
  },
  {
   "cell_type": "code",
   "execution_count": 40,
   "metadata": {},
   "outputs": [
    {
     "name": "stdout",
     "output_type": "stream",
     "text": [
      "5523\n",
      "276.3253666485606 93.79764327800069\n",
      "Lunghezza di ogni respiro, scelta \"ad occhio\":  250\n"
     ]
    }
   ],
   "source": [
    "breaths_lengths = [len(train_inputs[i]) for i in range(len(train_inputs))]\n",
    "breaths_lengths += [len(val_inputs[i]) for i in range(len(val_inputs))]\n",
    "breaths_lengths += [len(test_inputs[i]) for i in range(len(test_inputs))]\n",
    "\n",
    "breaths_lengths = np.array(breaths_lengths)\n",
    "\n",
    "print(len(breaths_lengths))\n",
    "print(breaths_lengths.mean(), breaths_lengths.std())\n",
    "\n",
    "desired_dim = 250\n",
    "\n",
    "print(\"Lunghezza di ogni respiro, scelta \\\"ad occhio\\\": \", desired_dim)"
   ]
  },
  {
   "cell_type": "code",
   "execution_count": 41,
   "metadata": {},
   "outputs": [],
   "source": [
    "def uniform_downsample(arr, n):\n",
    "    if n == 0:\n",
    "        return arr\n",
    "    else:\n",
    "        step = len(arr)/n\n",
    "        counter = 0\n",
    "        to_remove_indices = []\n",
    "        for i in range(len(arr)):\n",
    "            if i >= counter:\n",
    "                to_remove_indices += [i]\n",
    "                counter += step\n",
    "\n",
    "        downsampled_arr = np.delete(arr, to_remove_indices, axis=0)\n",
    "        return downsampled_arr\n",
    "\n",
    "def downsampler(inputs_set, targets_set, desired_dim):\n",
    "    to_keep_indices = [i for i in range(len(inputs_set)) if inputs_set[i].shape[0] >= desired_dim]\n",
    "    \n",
    "    X_raw = np.array(inputs_set)[to_keep_indices]\n",
    "    y = np.array(targets_set)[to_keep_indices]\n",
    "\n",
    "    X = []\n",
    "    for breath in X_raw:\n",
    "        n = breath.shape[0] - desired_dim\n",
    "        X += [uniform_downsample(breath, n)]\n",
    "\n",
    "    X = np.array(X)\n",
    "    return X, y"
   ]
  },
  {
   "cell_type": "code",
   "execution_count": 42,
   "metadata": {},
   "outputs": [
    {
     "name": "stdout",
     "output_type": "stream",
     "text": [
      "X_train shape:  (2578, 250, 2)\n",
      "X_val shape:  (620, 250, 2)\n",
      "X_test shape:  (1090, 250, 2)\n"
     ]
    }
   ],
   "source": [
    "X_train, y_train = downsampler(train_inputs, train_targets, desired_dim)\n",
    "print(\"X_train shape: \", X_train.shape)\n",
    "\n",
    "X_val, y_val = downsampler(val_inputs, val_targets, desired_dim)\n",
    "print(\"X_val shape: \", X_val.shape)\n",
    "\n",
    "X_test, y_test = downsampler(test_inputs, test_targets, desired_dim)\n",
    "print(\"X_test shape: \", X_test.shape)"
   ]
  },
  {
   "cell_type": "code",
   "execution_count": 43,
   "metadata": {},
   "outputs": [],
   "source": [
    "saving_directory = data_directory + \"downsampling/\"\n",
    "\n",
    "np.save(saving_directory + \"X_train.npy\", X_train)\n",
    "np.save(saving_directory + \"y_train.npy\", y_train)\n",
    "\n",
    "np.save(saving_directory + \"X_val.npy\", X_val)\n",
    "np.save(saving_directory + \"y_val.npy\", y_val)\n",
    "\n",
    "np.save(saving_directory + \"X_test.npy\", X_test)\n",
    "np.save(saving_directory + \"y_test.npy\", y_test)"
   ]
  },
  {
   "cell_type": "code",
   "execution_count": null,
   "metadata": {},
   "outputs": [],
   "source": []
  }
 ],
 "metadata": {
  "kernelspec": {
   "display_name": "Python 3",
   "language": "python",
   "name": "python3"
  },
  "language_info": {
   "codemirror_mode": {
    "name": "ipython",
    "version": 3
   },
   "file_extension": ".py",
   "mimetype": "text/x-python",
   "name": "python",
   "nbconvert_exporter": "python",
   "pygments_lexer": "ipython3",
   "version": "3.6.6"
  }
 },
 "nbformat": 4,
 "nbformat_minor": 2
}
