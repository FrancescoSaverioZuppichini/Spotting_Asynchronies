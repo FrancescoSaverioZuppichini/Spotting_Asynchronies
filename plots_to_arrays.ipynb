{
 "cells": [
  {
   "cell_type": "code",
   "execution_count": 19,
   "metadata": {},
   "outputs": [],
   "source": [
    "import numpy as np\n",
    "import matplotlib.pyplot as plt\n",
    "import matplotlib.image as mpimg\n",
    "\n",
    "from os import listdir\n",
    "from os.path import isfile, join"
   ]
  },
  {
   "cell_type": "code",
   "execution_count": 23,
   "metadata": {},
   "outputs": [],
   "source": [
    "num_plots_per_mode = [8285, 0, 24012, 11302, 5523]"
   ]
  },
  {
   "cell_type": "code",
   "execution_count": 22,
   "metadata": {},
   "outputs": [],
   "source": [
    "for i in range(5):\n",
    "    mode = i\n",
    "    plots_in_this_mode = num_plots_per_mode[mode]\n",
    "    \n",
    "    if plots_in_this_mode > 0:\n",
    "        plots_directory = \"PLOTS/mode_\" + str(mode) + \"/\"\n",
    "        saving_directory = \"PLOTS_ARRAYS/mode_\"+ str(mode) + \"/\"    \n",
    "        breaths_target = np.load(plots_directory+\"breaths_target.npy\")\n",
    "    \n",
    "    for j in range(min(100, plots_in_this_mode)):\n",
    "        plot_filename = \"plot_\"+str(j)+\".png\"\n",
    "        image = mpimg.imread(plots_directory+plot_filename)\n",
    "        image = image[:, :, 0]\n",
    "        image = (image > image.min() + 0.5).astype(int)\n",
    "        \n",
    "        image_filename = \"image_\"+str(j)+\".npy\"\n",
    "        np.save(saving_directory+image_filename, image)"
   ]
  },
  {
   "cell_type": "code",
   "execution_count": null,
   "metadata": {},
   "outputs": [],
   "source": []
  }
 ],
 "metadata": {
  "kernelspec": {
   "display_name": "Python 3",
   "language": "python",
   "name": "python3"
  },
  "language_info": {
   "codemirror_mode": {
    "name": "ipython",
    "version": 3
   },
   "file_extension": ".py",
   "mimetype": "text/x-python",
   "name": "python",
   "nbconvert_exporter": "python",
   "pygments_lexer": "ipython3",
   "version": "3.6.6"
  }
 },
 "nbformat": 4,
 "nbformat_minor": 2
}
