{
 "cells": [
  {
   "cell_type": "code",
   "execution_count": 39,
   "metadata": {},
   "outputs": [],
   "source": [
    "import numpy as np\n",
    "import matplotlib.pyplot as plt"
   ]
  },
  {
   "cell_type": "code",
   "execution_count": 40,
   "metadata": {},
   "outputs": [],
   "source": [
    "num_breaths_per_mode = [8285, 0, 24012, 11302, 5523]"
   ]
  },
  {
   "cell_type": "code",
   "execution_count": 41,
   "metadata": {},
   "outputs": [
    {
     "data": {
      "text/plain": [
       "<Figure size 432x288 with 0 Axes>"
      ]
     },
     "metadata": {},
     "output_type": "display_data"
    }
   ],
   "source": [
    "for mode in range(5):\n",
    "    for breath_num in range(min(num_breaths_per_mode[mode], 1000)):\n",
    "        directory = \"BREATHS/mode_\" + str(mode) + \"/\"\n",
    "\n",
    "        breath = np.load(directory + \"breath_\" + str(breath_num) + \".npy\")\n",
    "        breath_target_stream = np.load(directory + \"breath_target_stream_\" + str(breath_num) + \".npy\")\n",
    "\n",
    "        saving_directory = \"PLOTS_CHECK/mode_\" + str(mode) + \"/\"\n",
    "\n",
    "        colors = np.array(['blue', 'red'])[breath_target_stream]\n",
    "        plt.scatter(breath[:,0], breath[:, 1], c=colors, s=2)\n",
    "        plt.plot(breath[:,0], breath[:, 1], linewidth=0.5)\n",
    "\n",
    "        plt.savefig(saving_directory+\"plot_\"+str(breath_num), dpi=200)\n",
    "        plt.clf()"
   ]
  },
  {
   "cell_type": "code",
   "execution_count": null,
   "metadata": {},
   "outputs": [],
   "source": []
  }
 ],
 "metadata": {
  "kernelspec": {
   "display_name": "Python 3",
   "language": "python",
   "name": "python3"
  },
  "language_info": {
   "codemirror_mode": {
    "name": "ipython",
    "version": 3
   },
   "file_extension": ".py",
   "mimetype": "text/x-python",
   "name": "python",
   "nbconvert_exporter": "python",
   "pygments_lexer": "ipython3",
   "version": "3.6.6"
  }
 },
 "nbformat": 4,
 "nbformat_minor": 2
}
