{
 "cells": [
  {
   "cell_type": "code",
   "execution_count": 1,
   "metadata": {},
   "outputs": [],
   "source": [
    "import numpy as np\n",
    "import matplotlib.pyplot as plt"
   ]
  },
  {
   "cell_type": "code",
   "execution_count": 26,
   "metadata": {},
   "outputs": [
    {
     "data": {
      "text/plain": [
       "<Figure size 432x288 with 0 Axes>"
      ]
     },
     "metadata": {},
     "output_type": "display_data"
    }
   ],
   "source": [
    "for mode in range(5):\n",
    "    \n",
    "    if mode == 1:\n",
    "        continue\n",
    "    for set_type in [\"train\", \"val\", \"test\"]:\n",
    "        \n",
    "        directory = \"DATASET/mode_\" + str(mode) + \"/\"\n",
    "        set_name = set_type + \"_set.npy\"\n",
    "        this_set = np.load(directory + set_name)\n",
    "        saving_directory = directory + set_type + \"_plots/\"\n",
    "\n",
    "        X = this_set[:, 0]\n",
    "        y = this_set[:, 1]\n",
    "\n",
    "        for i in range(min(y.shape[0], 500)):\n",
    "            this_breath = X[i]\n",
    "            this_target = y[i]\n",
    "\n",
    "            color = ['blue', 'red'][this_target]\n",
    "            plt.plot(this_breath[:,0], this_breath[:, 1], linewidth=0.7, c=color)\n",
    "\n",
    "            plt.savefig(saving_directory+\"plot_\"+str(i), dpi=100)\n",
    "            plt.clf()"
   ]
  },
  {
   "cell_type": "code",
   "execution_count": null,
   "metadata": {},
   "outputs": [],
   "source": []
  }
 ],
 "metadata": {
  "kernelspec": {
   "display_name": "Python 3",
   "language": "python",
   "name": "python3"
  },
  "language_info": {
   "codemirror_mode": {
    "name": "ipython",
    "version": 3
   },
   "file_extension": ".py",
   "mimetype": "text/x-python",
   "name": "python",
   "nbconvert_exporter": "python",
   "pygments_lexer": "ipython3",
   "version": "3.6.6"
  }
 },
 "nbformat": 4,
 "nbformat_minor": 2
}
