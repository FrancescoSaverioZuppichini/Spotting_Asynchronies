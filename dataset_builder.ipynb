{
 "cells": [
  {
   "cell_type": "code",
   "execution_count": 7,
   "metadata": {},
   "outputs": [],
   "source": [
    "import numpy as np\n",
    "\n",
    "from os import listdir\n",
    "from os.path import isfile, join"
   ]
  },
  {
   "cell_type": "code",
   "execution_count": 2,
   "metadata": {},
   "outputs": [],
   "source": [
    "splitting = [0.6, 0.15] #train, validation, test\n",
    "files_per_mode = [3000, 0, 3000, 3000, 3000]"
   ]
  },
  {
   "cell_type": "code",
   "execution_count": 3,
   "metadata": {},
   "outputs": [],
   "source": [
    "\"\"\"Per ogni mode, mescola gli esempi e li distribuisce nei rapporti definiti in train, validation e test.\n",
    "    Ogni esempio e' (array_immagine, target)\"\"\"\n",
    "for mode in range(5):\n",
    "    files_in_this_mode = files_per_mode[mode]\n",
    "    \n",
    "    if files_in_this_mode > 0:\n",
    "        images_directory = \"PLOTS_ARRAYS/mode_\"+str(mode)+\"/\"\n",
    "        saving_directory = \"DATASET/mode_\"+ str(mode) + \"/\"    \n",
    "    \n",
    "        np.random.seed(seed=mode)\n",
    "        idx = np.arange(files_in_this_mode)\n",
    "        np.random.shuffle(idx)\n",
    "\n",
    "        split_point_1 = int(splitting[0] * files_in_this_mode)\n",
    "        split_point_2 = split_point_1 + int(splitting[1] * files_in_this_mode)\n",
    "        idx_train = idx[: split_point_1]\n",
    "        idx_val = idx[split_point_1 : split_point_2]\n",
    "        idx_test = idx[split_point_2 :]\n",
    "\n",
    "        for index in idx_train:\n",
    "            folder = \"train/\"\n",
    "            example_name = \"img_example_\" + str(index) + \".npy\"\n",
    "            example = np.load(images_directory + example_name)\n",
    "            np.save(saving_directory + folder + example_name, example)\n",
    "\n",
    "        for index in idx_val:\n",
    "            folder = \"validation/\"\n",
    "            example_name = \"img_example_\"+str(index)+\".npy\"\n",
    "            example = np.load(images_directory + example_name)\n",
    "            np.save(saving_directory + folder + example_name, example)\n",
    "\n",
    "        for index in idx_test:\n",
    "            folder = \"test/\"\n",
    "            example_name = \"img_example_\" + str(index) + \".npy\"\n",
    "            example = np.load(images_directory + example_name)\n",
    "            np.save(saving_directory + folder + example_name, example)"
   ]
  },
  {
   "cell_type": "code",
   "execution_count": 5,
   "metadata": {},
   "outputs": [],
   "source": [
    "files_per_set = [1800, 450, 750]"
   ]
  },
  {
   "cell_type": "code",
   "execution_count": 46,
   "metadata": {},
   "outputs": [],
   "source": [
    "for mode in range(5):\n",
    "    \n",
    "    if files_per_mode[mode] > 0:\n",
    "        directory = \"DATASET/mode_\" + str(mode) + \"/\"\n",
    "\n",
    "        train_directory = directory + \"train/\"\n",
    "        val_directory = directory + \"validation/\"\n",
    "        test_directory = directory + \"test/\"\n",
    "\n",
    "        X_train = []\n",
    "        y_train = []\n",
    "        train_examples_names = [f for f in listdir(train_directory) if isfile(join(train_directory, f))]\n",
    "        for example_name in train_examples_names:\n",
    "            example = np.load(train_directory + example_name)\n",
    "            \n",
    "            X_train += [example[0]]\n",
    "            y_train += [example[1]]\n",
    "\n",
    "        X_train = np.array(X_train)\n",
    "        y_train = np.array(y_train)\n",
    "\n",
    "        X_val = []\n",
    "        y_val = []\n",
    "        val_examples_names = [f for f in listdir(val_directory) if isfile(join(val_directory, f))]\n",
    "        for example_name in val_examples_names:\n",
    "            example = np.load(val_directory + example_name)\n",
    "            X_val += [example[0]]\n",
    "            y_val += [example[1]]\n",
    "        X_val = np.array(X_val)\n",
    "        y_val = np.array(y_val)\n",
    "\n",
    "        X_test = []\n",
    "        y_test = []\n",
    "        test_examples_names = [f for f in listdir(test_directory) if isfile(join(test_directory, f))]\n",
    "        for example_name in test_examples_names:\n",
    "            example + np.load(test_directory + example_name)\n",
    "            X_test += [example[0]]\n",
    "            y_test += [example[1]]\n",
    "        X_test = np.array(X_test)\n",
    "        y_test = np.array(y_test)\n",
    "\n",
    "        folder_name = \"refined/\" \n",
    "\n",
    "        np.save(directory + folder_name + \"X_train.npy\", X_train)\n",
    "        np.save(directory + folder_name + \"y_train.npy\", y_train)\n",
    "\n",
    "        np.save(directory + folder_name + \"X_val.npy\", X_val)\n",
    "        np.save(directory + folder_name + \"y_val.npy\", y_val)\n",
    "\n",
    "        np.save(directory + folder_name + \"X_test.npy\", X_test)\n",
    "        np.save(directory + folder_name + \"y_test.npy\", y_test)\n"
   ]
  },
  {
   "cell_type": "code",
   "execution_count": 43,
   "metadata": {},
   "outputs": [
    {
     "data": {
      "text/plain": [
       "((1800, 320, 480), (1800,))"
      ]
     },
     "execution_count": 43,
     "metadata": {},
     "output_type": "execute_result"
    }
   ],
   "source": [
    "X_train.shape, y_train.shape"
   ]
  },
  {
   "cell_type": "code",
   "execution_count": 44,
   "metadata": {},
   "outputs": [
    {
     "data": {
      "text/plain": [
       "array([1, 1, 0, ..., 1, 1, 1])"
      ]
     },
     "execution_count": 44,
     "metadata": {},
     "output_type": "execute_result"
    }
   ],
   "source": [
    "y_train"
   ]
  },
  {
   "cell_type": "code",
   "execution_count": null,
   "metadata": {},
   "outputs": [],
   "source": []
  }
 ],
 "metadata": {
  "kernelspec": {
   "display_name": "Python 3",
   "language": "python",
   "name": "python3"
  },
  "language_info": {
   "codemirror_mode": {
    "name": "ipython",
    "version": 3
   },
   "file_extension": ".py",
   "mimetype": "text/x-python",
   "name": "python",
   "nbconvert_exporter": "python",
   "pygments_lexer": "ipython3",
   "version": "3.6.6"
  }
 },
 "nbformat": 4,
 "nbformat_minor": 2
}
