{
 "cells": [
  {
   "cell_type": "code",
   "execution_count": 3,
   "metadata": {},
   "outputs": [],
   "source": [
    "import numpy as np\n",
    "import matplotlib.pyplot as plt"
   ]
  },
  {
   "cell_type": "code",
   "execution_count": 15,
   "metadata": {},
   "outputs": [],
   "source": [
    "num_breaths_per_mode = [8285, 0, 24012, 11302, 5523]\n",
    "max_num_of_files_to_save = 3000"
   ]
  },
  {
   "cell_type": "code",
   "execution_count": 16,
   "metadata": {},
   "outputs": [
    {
     "data": {
      "text/plain": [
       "<Figure size 432x288 with 0 Axes>"
      ]
     },
     "metadata": {},
     "output_type": "display_data"
    }
   ],
   "source": [
    "for mode in range(5):\n",
    "    breaths_in_this_mode = num_breaths_per_mode[mode]\n",
    "    breaths_directory = \"BREATHS/mode_\" + str(mode) + \"/\"\n",
    "    saving_directory = \"PLOTS/mode_\" + str(mode) + \"/\"\n",
    "    \n",
    "    \"\"\"sposta breaths_target da BREATHS a PLOTS, nelle rispettive mode\"\"\"\n",
    "    breaths_target = np.load(breaths_directory + \"breaths_target.npy\")\n",
    "    np.save(saving_directory + \"breaths_target.npy\", breaths_target)\n",
    "    \n",
    "    \"\"\"Per ogni respiro nella mode, plotta il grafico e salvalo in PLOT\"\"\"\n",
    "    for breath_num in range(min(max_num_of_files_to_save, breaths_in_this_mode)):\n",
    "        \n",
    "        breath = np.load(breaths_directory + \"breath_\"+str(breath_num)+\".npy\") #carica respiro\n",
    "        \n",
    "        plt.axis('off') #rimuove gli assi\n",
    "        plt.plot(breath[:, 0], breath[:, 1], linewidth=0.5)\n",
    "        plt.savefig(saving_directory + \"plot_\" + str(breath_num), dpi=80)\n",
    "        plt.clf() #evita che jupyter mostri i plots"
   ]
  },
  {
   "cell_type": "code",
   "execution_count": null,
   "metadata": {},
   "outputs": [],
   "source": [
    "num_plots_per_mode = [3000, 0, 3000, 3000, 3000]"
   ]
  }
 ],
 "metadata": {
  "kernelspec": {
   "display_name": "Python 3",
   "language": "python",
   "name": "python3"
  },
  "language_info": {
   "codemirror_mode": {
    "name": "ipython",
    "version": 3
   },
   "file_extension": ".py",
   "mimetype": "text/x-python",
   "name": "python",
   "nbconvert_exporter": "python",
   "pygments_lexer": "ipython3",
   "version": "3.6.6"
  }
 },
 "nbformat": 4,
 "nbformat_minor": 2
}
