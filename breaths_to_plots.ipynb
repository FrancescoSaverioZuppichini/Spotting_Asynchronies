{
 "cells": [
  {
   "cell_type": "code",
   "execution_count": 2,
   "metadata": {},
   "outputs": [],
   "source": [
    "import numpy as np\n",
    "import matplotlib.pyplot as plt\n",
    "import matplotlib.image as mpimg\n",
    "\n",
    "from os import listdir\n",
    "from os.path import isfile, join\n",
    "import matplotlib.pyplot as plt"
   ]
  },
  {
   "cell_type": "code",
   "execution_count": 3,
   "metadata": {},
   "outputs": [],
   "source": [
    "num_breaths_per_mode = [8285, 0, 24012, 11302, 5523]"
   ]
  },
  {
   "cell_type": "code",
   "execution_count": 5,
   "metadata": {},
   "outputs": [
    {
     "data": {
      "text/plain": [
       "<Figure size 432x288 with 0 Axes>"
      ]
     },
     "metadata": {},
     "output_type": "display_data"
    }
   ],
   "source": [
    "for i in range(5):\n",
    "    mode = i\n",
    "    breaths_in_this_mode = num_breaths_per_mode[mode]\n",
    "    \n",
    "    if breaths_in_this_mode > 0:\n",
    "        breaths_directory = \"BREATHS/mode_\" + str(mode) + \"/\"\n",
    "        saving_directory = \"PLOTS/mode_\"+ str(mode) + \"/\"    \n",
    "        breaths_target = np.load(breaths_directory+\"breaths_target.npy\")\n",
    "    \n",
    "    for j in range(min(100, breaths_in_this_mode)):\n",
    "        breath_filename = \"breath_\"+str(j)+\".npy\"\n",
    "        breath = np.load(breaths_directory+breath_filename)\n",
    "\n",
    "        plt.axis('off')\n",
    "        \n",
    "        if breaths_target[j] == 0:\n",
    "            plt.plot(breath[:, 0], breath[:, 1], color='blue')\n",
    "        else:\n",
    "            plt.plot(breath[:, 0], breath[:, 1], color='red')\n",
    "            \n",
    "        plt.savefig(saving_directory+\"plot_\"+str(j), dpi=50)\n",
    "        plt.clf()\n",
    "    np.save(saving_directory+\"breaths_target.npy\", breaths_target)"
   ]
  },
  {
   "cell_type": "code",
   "execution_count": null,
   "metadata": {},
   "outputs": [],
   "source": []
  }
 ],
 "metadata": {
  "kernelspec": {
   "display_name": "Python 3",
   "language": "python",
   "name": "python3"
  },
  "language_info": {
   "codemirror_mode": {
    "name": "ipython",
    "version": 3
   },
   "file_extension": ".py",
   "mimetype": "text/x-python",
   "name": "python",
   "nbconvert_exporter": "python",
   "pygments_lexer": "ipython3",
   "version": "3.6.6"
  }
 },
 "nbformat": 4,
 "nbformat_minor": 2
}
